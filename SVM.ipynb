{
 "cells": [
  {
   "cell_type": "markdown",
   "id": "1e249880",
   "metadata": {},
   "source": [
    "# Librerias"
   ]
  },
  {
   "cell_type": "code",
   "execution_count": 1,
   "id": "82502f37",
   "metadata": {
    "scrolled": true
   },
   "outputs": [
    {
     "name": "stdout",
     "output_type": "stream",
     "text": [
      "Se importan las librerias para Support vector machine (SVM)\n",
      "    <sklearn. datasets> Proporciona funciones de utilidad para cargar conjuntos de datos externos.\n",
      "    <sklearn. model_selection> Permite dividir un dataset en dos bloques.\n",
      "    <sklearn> de <smm> Permite ajustar modelos SVM con kernel lineal.\n",
      "    <sklearn. metrics> Sirve para medir el rendimiento de la clasificación.\n",
      "    <matplotlib.pyplot> Permite crear y personalizar gráficos en dos dimensiones.\n",
      "None\n"
     ]
    }
   ],
   "source": [
    "def importLibrerias():\n",
    "    '''Se importan las librerias para Support vector machine (SVM)\n",
    "    <sklearn. datasets> Proporciona funciones de utilidad para cargar conjuntos de datos externos.\n",
    "    <sklearn. model_selection> Permite dividir un dataset en dos bloques.\n",
    "    <sklearn> de <smm> Permite ajustar modelos SVM con kernel lineal.\n",
    "    <sklearn. metrics> Sirve para medir el rendimiento de la clasificación.\n",
    "    <matplotlib.pyplot> Permite crear y personalizar gráficos en dos dimensiones.'''\n",
    "from sklearn import datasets \n",
    "from sklearn.model_selection import train_test_split\n",
    "from sklearn import svm\n",
    "from sklearn import metrics\n",
    "from sklearn.metrics import accuracy_score, precision_score, classification_report, confusion_matrix\n",
    "from sklearn.metrics import plot_confusion_matrix\n",
    "import matplotlib.pyplot as plt\n",
    "print(importLibrerias.__doc__)\n",
    "print(importLibrerias())"
   ]
  },
  {
   "cell_type": "markdown",
   "id": "1e829bce",
   "metadata": {},
   "source": [
    "# Dataset"
   ]
  },
  {
   "cell_type": "code",
   "execution_count": 2,
   "id": "861754fe",
   "metadata": {},
   "outputs": [
    {
     "name": "stdout",
     "output_type": "stream",
     "text": [
      "Carga y lectura del dataset Iris mediante Scikit-learn \n",
      "{'data': array([[5.1, 3.5, 1.4, 0.2],\n",
      "       [4.9, 3. , 1.4, 0.2],\n",
      "       [4.7, 3.2, 1.3, 0.2],\n",
      "       [4.6, 3.1, 1.5, 0.2],\n",
      "       [5. , 3.6, 1.4, 0.2],\n",
      "       [5.4, 3.9, 1.7, 0.4],\n",
      "       [4.6, 3.4, 1.4, 0.3],\n",
      "       [5. , 3.4, 1.5, 0.2],\n",
      "       [4.4, 2.9, 1.4, 0.2],\n",
      "       [4.9, 3.1, 1.5, 0.1],\n",
      "       [5.4, 3.7, 1.5, 0.2],\n",
      "       [4.8, 3.4, 1.6, 0.2],\n",
      "       [4.8, 3. , 1.4, 0.1],\n",
      "       [4.3, 3. , 1.1, 0.1],\n",
      "       [5.8, 4. , 1.2, 0.2],\n",
      "       [5.7, 4.4, 1.5, 0.4],\n",
      "       [5.4, 3.9, 1.3, 0.4],\n",
      "       [5.1, 3.5, 1.4, 0.3],\n",
      "       [5.7, 3.8, 1.7, 0.3],\n",
      "       [5.1, 3.8, 1.5, 0.3],\n",
      "       [5.4, 3.4, 1.7, 0.2],\n",
      "       [5.1, 3.7, 1.5, 0.4],\n",
      "       [4.6, 3.6, 1. , 0.2],\n",
      "       [5.1, 3.3, 1.7, 0.5],\n",
      "       [4.8, 3.4, 1.9, 0.2],\n",
      "       [5. , 3. , 1.6, 0.2],\n",
      "       [5. , 3.4, 1.6, 0.4],\n",
      "       [5.2, 3.5, 1.5, 0.2],\n",
      "       [5.2, 3.4, 1.4, 0.2],\n",
      "       [4.7, 3.2, 1.6, 0.2],\n",
      "       [4.8, 3.1, 1.6, 0.2],\n",
      "       [5.4, 3.4, 1.5, 0.4],\n",
      "       [5.2, 4.1, 1.5, 0.1],\n",
      "       [5.5, 4.2, 1.4, 0.2],\n",
      "       [4.9, 3.1, 1.5, 0.2],\n",
      "       [5. , 3.2, 1.2, 0.2],\n",
      "       [5.5, 3.5, 1.3, 0.2],\n",
      "       [4.9, 3.6, 1.4, 0.1],\n",
      "       [4.4, 3. , 1.3, 0.2],\n",
      "       [5.1, 3.4, 1.5, 0.2],\n",
      "       [5. , 3.5, 1.3, 0.3],\n",
      "       [4.5, 2.3, 1.3, 0.3],\n",
      "       [4.4, 3.2, 1.3, 0.2],\n",
      "       [5. , 3.5, 1.6, 0.6],\n",
      "       [5.1, 3.8, 1.9, 0.4],\n",
      "       [4.8, 3. , 1.4, 0.3],\n",
      "       [5.1, 3.8, 1.6, 0.2],\n",
      "       [4.6, 3.2, 1.4, 0.2],\n",
      "       [5.3, 3.7, 1.5, 0.2],\n",
      "       [5. , 3.3, 1.4, 0.2],\n",
      "       [7. , 3.2, 4.7, 1.4],\n",
      "       [6.4, 3.2, 4.5, 1.5],\n",
      "       [6.9, 3.1, 4.9, 1.5],\n",
      "       [5.5, 2.3, 4. , 1.3],\n",
      "       [6.5, 2.8, 4.6, 1.5],\n",
      "       [5.7, 2.8, 4.5, 1.3],\n",
      "       [6.3, 3.3, 4.7, 1.6],\n",
      "       [4.9, 2.4, 3.3, 1. ],\n",
      "       [6.6, 2.9, 4.6, 1.3],\n",
      "       [5.2, 2.7, 3.9, 1.4],\n",
      "       [5. , 2. , 3.5, 1. ],\n",
      "       [5.9, 3. , 4.2, 1.5],\n",
      "       [6. , 2.2, 4. , 1. ],\n",
      "       [6.1, 2.9, 4.7, 1.4],\n",
      "       [5.6, 2.9, 3.6, 1.3],\n",
      "       [6.7, 3.1, 4.4, 1.4],\n",
      "       [5.6, 3. , 4.5, 1.5],\n",
      "       [5.8, 2.7, 4.1, 1. ],\n",
      "       [6.2, 2.2, 4.5, 1.5],\n",
      "       [5.6, 2.5, 3.9, 1.1],\n",
      "       [5.9, 3.2, 4.8, 1.8],\n",
      "       [6.1, 2.8, 4. , 1.3],\n",
      "       [6.3, 2.5, 4.9, 1.5],\n",
      "       [6.1, 2.8, 4.7, 1.2],\n",
      "       [6.4, 2.9, 4.3, 1.3],\n",
      "       [6.6, 3. , 4.4, 1.4],\n",
      "       [6.8, 2.8, 4.8, 1.4],\n",
      "       [6.7, 3. , 5. , 1.7],\n",
      "       [6. , 2.9, 4.5, 1.5],\n",
      "       [5.7, 2.6, 3.5, 1. ],\n",
      "       [5.5, 2.4, 3.8, 1.1],\n",
      "       [5.5, 2.4, 3.7, 1. ],\n",
      "       [5.8, 2.7, 3.9, 1.2],\n",
      "       [6. , 2.7, 5.1, 1.6],\n",
      "       [5.4, 3. , 4.5, 1.5],\n",
      "       [6. , 3.4, 4.5, 1.6],\n",
      "       [6.7, 3.1, 4.7, 1.5],\n",
      "       [6.3, 2.3, 4.4, 1.3],\n",
      "       [5.6, 3. , 4.1, 1.3],\n",
      "       [5.5, 2.5, 4. , 1.3],\n",
      "       [5.5, 2.6, 4.4, 1.2],\n",
      "       [6.1, 3. , 4.6, 1.4],\n",
      "       [5.8, 2.6, 4. , 1.2],\n",
      "       [5. , 2.3, 3.3, 1. ],\n",
      "       [5.6, 2.7, 4.2, 1.3],\n",
      "       [5.7, 3. , 4.2, 1.2],\n",
      "       [5.7, 2.9, 4.2, 1.3],\n",
      "       [6.2, 2.9, 4.3, 1.3],\n",
      "       [5.1, 2.5, 3. , 1.1],\n",
      "       [5.7, 2.8, 4.1, 1.3],\n",
      "       [6.3, 3.3, 6. , 2.5],\n",
      "       [5.8, 2.7, 5.1, 1.9],\n",
      "       [7.1, 3. , 5.9, 2.1],\n",
      "       [6.3, 2.9, 5.6, 1.8],\n",
      "       [6.5, 3. , 5.8, 2.2],\n",
      "       [7.6, 3. , 6.6, 2.1],\n",
      "       [4.9, 2.5, 4.5, 1.7],\n",
      "       [7.3, 2.9, 6.3, 1.8],\n",
      "       [6.7, 2.5, 5.8, 1.8],\n",
      "       [7.2, 3.6, 6.1, 2.5],\n",
      "       [6.5, 3.2, 5.1, 2. ],\n",
      "       [6.4, 2.7, 5.3, 1.9],\n",
      "       [6.8, 3. , 5.5, 2.1],\n",
      "       [5.7, 2.5, 5. , 2. ],\n",
      "       [5.8, 2.8, 5.1, 2.4],\n",
      "       [6.4, 3.2, 5.3, 2.3],\n",
      "       [6.5, 3. , 5.5, 1.8],\n",
      "       [7.7, 3.8, 6.7, 2.2],\n",
      "       [7.7, 2.6, 6.9, 2.3],\n",
      "       [6. , 2.2, 5. , 1.5],\n",
      "       [6.9, 3.2, 5.7, 2.3],\n",
      "       [5.6, 2.8, 4.9, 2. ],\n",
      "       [7.7, 2.8, 6.7, 2. ],\n",
      "       [6.3, 2.7, 4.9, 1.8],\n",
      "       [6.7, 3.3, 5.7, 2.1],\n",
      "       [7.2, 3.2, 6. , 1.8],\n",
      "       [6.2, 2.8, 4.8, 1.8],\n",
      "       [6.1, 3. , 4.9, 1.8],\n",
      "       [6.4, 2.8, 5.6, 2.1],\n",
      "       [7.2, 3. , 5.8, 1.6],\n",
      "       [7.4, 2.8, 6.1, 1.9],\n",
      "       [7.9, 3.8, 6.4, 2. ],\n",
      "       [6.4, 2.8, 5.6, 2.2],\n",
      "       [6.3, 2.8, 5.1, 1.5],\n",
      "       [6.1, 2.6, 5.6, 1.4],\n",
      "       [7.7, 3. , 6.1, 2.3],\n",
      "       [6.3, 3.4, 5.6, 2.4],\n",
      "       [6.4, 3.1, 5.5, 1.8],\n",
      "       [6. , 3. , 4.8, 1.8],\n",
      "       [6.9, 3.1, 5.4, 2.1],\n",
      "       [6.7, 3.1, 5.6, 2.4],\n",
      "       [6.9, 3.1, 5.1, 2.3],\n",
      "       [5.8, 2.7, 5.1, 1.9],\n",
      "       [6.8, 3.2, 5.9, 2.3],\n",
      "       [6.7, 3.3, 5.7, 2.5],\n",
      "       [6.7, 3. , 5.2, 2.3],\n",
      "       [6.3, 2.5, 5. , 1.9],\n",
      "       [6.5, 3. , 5.2, 2. ],\n",
      "       [6.2, 3.4, 5.4, 2.3],\n",
      "       [5.9, 3. , 5.1, 1.8]]), 'target': array([0, 0, 0, 0, 0, 0, 0, 0, 0, 0, 0, 0, 0, 0, 0, 0, 0, 0, 0, 0, 0, 0,\n",
      "       0, 0, 0, 0, 0, 0, 0, 0, 0, 0, 0, 0, 0, 0, 0, 0, 0, 0, 0, 0, 0, 0,\n",
      "       0, 0, 0, 0, 0, 0, 1, 1, 1, 1, 1, 1, 1, 1, 1, 1, 1, 1, 1, 1, 1, 1,\n",
      "       1, 1, 1, 1, 1, 1, 1, 1, 1, 1, 1, 1, 1, 1, 1, 1, 1, 1, 1, 1, 1, 1,\n",
      "       1, 1, 1, 1, 1, 1, 1, 1, 1, 1, 1, 1, 2, 2, 2, 2, 2, 2, 2, 2, 2, 2,\n",
      "       2, 2, 2, 2, 2, 2, 2, 2, 2, 2, 2, 2, 2, 2, 2, 2, 2, 2, 2, 2, 2, 2,\n",
      "       2, 2, 2, 2, 2, 2, 2, 2, 2, 2, 2, 2, 2, 2, 2, 2, 2, 2]), 'frame': None, 'target_names': array(['setosa', 'versicolor', 'virginica'], dtype='<U10'), 'DESCR': '.. _iris_dataset:\\n\\nIris plants dataset\\n--------------------\\n\\n**Data Set Characteristics:**\\n\\n    :Number of Instances: 150 (50 in each of three classes)\\n    :Number of Attributes: 4 numeric, predictive attributes and the class\\n    :Attribute Information:\\n        - sepal length in cm\\n        - sepal width in cm\\n        - petal length in cm\\n        - petal width in cm\\n        - class:\\n                - Iris-Setosa\\n                - Iris-Versicolour\\n                - Iris-Virginica\\n                \\n    :Summary Statistics:\\n\\n    ============== ==== ==== ======= ===== ====================\\n                    Min  Max   Mean    SD   Class Correlation\\n    ============== ==== ==== ======= ===== ====================\\n    sepal length:   4.3  7.9   5.84   0.83    0.7826\\n    sepal width:    2.0  4.4   3.05   0.43   -0.4194\\n    petal length:   1.0  6.9   3.76   1.76    0.9490  (high!)\\n    petal width:    0.1  2.5   1.20   0.76    0.9565  (high!)\\n    ============== ==== ==== ======= ===== ====================\\n\\n    :Missing Attribute Values: None\\n    :Class Distribution: 33.3% for each of 3 classes.\\n    :Creator: R.A. Fisher\\n    :Donor: Michael Marshall (MARSHALL%PLU@io.arc.nasa.gov)\\n    :Date: July, 1988\\n\\nThe famous Iris database, first used by Sir R.A. Fisher. The dataset is taken\\nfrom Fisher\\'s paper. Note that it\\'s the same as in R, but not as in the UCI\\nMachine Learning Repository, which has two wrong data points.\\n\\nThis is perhaps the best known database to be found in the\\npattern recognition literature.  Fisher\\'s paper is a classic in the field and\\nis referenced frequently to this day.  (See Duda & Hart, for example.)  The\\ndata set contains 3 classes of 50 instances each, where each class refers to a\\ntype of iris plant.  One class is linearly separable from the other 2; the\\nlatter are NOT linearly separable from each other.\\n\\n.. topic:: References\\n\\n   - Fisher, R.A. \"The use of multiple measurements in taxonomic problems\"\\n     Annual Eugenics, 7, Part II, 179-188 (1936); also in \"Contributions to\\n     Mathematical Statistics\" (John Wiley, NY, 1950).\\n   - Duda, R.O., & Hart, P.E. (1973) Pattern Classification and Scene Analysis.\\n     (Q327.D83) John Wiley & Sons.  ISBN 0-471-22361-1.  See page 218.\\n   - Dasarathy, B.V. (1980) \"Nosing Around the Neighborhood: A New System\\n     Structure and Classification Rule for Recognition in Partially Exposed\\n     Environments\".  IEEE Transactions on Pattern Analysis and Machine\\n     Intelligence, Vol. PAMI-2, No. 1, 67-71.\\n   - Gates, G.W. (1972) \"The Reduced Nearest Neighbor Rule\".  IEEE Transactions\\n     on Information Theory, May 1972, 431-433.\\n   - See also: 1988 MLC Proceedings, 54-64.  Cheeseman et al\"s AUTOCLASS II\\n     conceptual clustering system finds 3 classes in the data.\\n   - Many, many more ...', 'feature_names': ['sepal length (cm)', 'sepal width (cm)', 'petal length (cm)', 'petal width (cm)'], 'filename': 'iris.csv', 'data_module': 'sklearn.datasets.data'}\n"
     ]
    }
   ],
   "source": [
    "def cargaDataset():\n",
    "    '''Carga y lectura del dataset Iris mediante Scikit-learn '''\n",
    "    dicc = datasets.load_iris()\n",
    "    return(dicc)\n",
    "print(cargaDataset.__doc__)\n",
    "print(cargaDataset())"
   ]
  },
  {
   "cell_type": "code",
   "execution_count": 3,
   "id": "93eb4468",
   "metadata": {},
   "outputs": [
    {
     "name": "stdout",
     "output_type": "stream",
     "text": [
      "Visualización de las características y etiquetas\n",
      "dict_keys(['data', 'target', 'frame', 'target_names', 'DESCR', 'feature_names', 'filename', 'data_module'])\n",
      "None\n"
     ]
    }
   ],
   "source": [
    "def carac_etiq():\n",
    "    '''Visualización de las características y etiquetas'''\n",
    "    print(cargaDataset().keys())\n",
    "print(carac_etiq.__doc__)\n",
    "print(carac_etiq())"
   ]
  },
  {
   "cell_type": "markdown",
   "id": "f486f3b0",
   "metadata": {},
   "source": [
    "## Impresión de registros"
   ]
  },
  {
   "cell_type": "code",
   "execution_count": 4,
   "id": "d6399831",
   "metadata": {},
   "outputs": [
    {
     "name": "stdout",
     "output_type": "stream",
     "text": [
      "Se muestra las caracteristicas (x) que representan al dataset\n",
      "Características: \n",
      " ['sepal length (cm)', 'sepal width (cm)', 'petal length (cm)', 'petal width (cm)']\n",
      "None\n"
     ]
    }
   ],
   "source": [
    "def caracteriticas():\n",
    "    '''Se muestra las caracteristicas (x) que representan al dataset'''\n",
    "    print(\"Características: \\n\", cargaDataset().feature_names)\n",
    "print(caracteriticas.__doc__)\n",
    "print(caracteriticas())"
   ]
  },
  {
   "cell_type": "code",
   "execution_count": 5,
   "id": "3b13530a",
   "metadata": {},
   "outputs": [
    {
     "name": "stdout",
     "output_type": "stream",
     "text": [
      "Se muestra las etiquetas (y) con algunos registros\n",
      "Etiquetas: \n",
      " ['setosa' 'versicolor' 'virginica']\n",
      "None\n"
     ]
    }
   ],
   "source": [
    "def etiquetas():\n",
    "    '''Se muestra las etiquetas (y) con algunos registros'''\n",
    "    print(\"Etiquetas: \\n\", cargaDataset().target_names)\n",
    "print(etiquetas.__doc__)\n",
    "print(etiquetas())"
   ]
  },
  {
   "cell_type": "code",
   "execution_count": 6,
   "id": "a05ae49b",
   "metadata": {},
   "outputs": [
    {
     "name": "stdout",
     "output_type": "stream",
     "text": [
      "Dimensión del dataset\n",
      "Forma: \n",
      " (150, 4)\n",
      "None\n"
     ]
    }
   ],
   "source": [
    "def dimensionData():\n",
    "    '''Dimensión del dataset'''\n",
    "    print(\"Forma: \\n\", cargaDataset().data.shape)\n",
    "print(dimensionData.__doc__)\n",
    "print(dimensionData())"
   ]
  },
  {
   "cell_type": "code",
   "execution_count": 7,
   "id": "7c5ff23d",
   "metadata": {},
   "outputs": [
    {
     "name": "stdout",
     "output_type": "stream",
     "text": [
      "Los mejores registros del dataset\n",
      "5 Mejores: \n",
      " [[5.1 3.5 1.4 0.2]\n",
      " [4.9 3.  1.4 0.2]\n",
      " [4.7 3.2 1.3 0.2]\n",
      " [4.6 3.1 1.5 0.2]\n",
      " [5.  3.6 1.4 0.2]]\n",
      "None\n"
     ]
    }
   ],
   "source": [
    "def registros():\n",
    "    '''Los mejores registros del dataset'''\n",
    "    print(\"5 Mejores: \\n\", cargaDataset().data[0:5])\n",
    "print(registros.__doc__)\n",
    "print(registros())"
   ]
  },
  {
   "cell_type": "markdown",
   "id": "75f0bf3a",
   "metadata": {},
   "source": [
    "## Asignación de variables correspondientes \"X\" y \"y\""
   ]
  },
  {
   "cell_type": "code",
   "execution_count": 8,
   "id": "a844b05a",
   "metadata": {},
   "outputs": [
    {
     "name": "stdout",
     "output_type": "stream",
     "text": [
      "Se asigna (X) a los datos de entrada (data)\n",
      "[[5.1 3.5 1.4 0.2]\n",
      " [4.9 3.  1.4 0.2]\n",
      " [4.7 3.2 1.3 0.2]\n",
      " [4.6 3.1 1.5 0.2]\n",
      " [5.  3.6 1.4 0.2]\n",
      " [5.4 3.9 1.7 0.4]\n",
      " [4.6 3.4 1.4 0.3]\n",
      " [5.  3.4 1.5 0.2]\n",
      " [4.4 2.9 1.4 0.2]\n",
      " [4.9 3.1 1.5 0.1]\n",
      " [5.4 3.7 1.5 0.2]\n",
      " [4.8 3.4 1.6 0.2]\n",
      " [4.8 3.  1.4 0.1]\n",
      " [4.3 3.  1.1 0.1]\n",
      " [5.8 4.  1.2 0.2]\n",
      " [5.7 4.4 1.5 0.4]\n",
      " [5.4 3.9 1.3 0.4]\n",
      " [5.1 3.5 1.4 0.3]\n",
      " [5.7 3.8 1.7 0.3]\n",
      " [5.1 3.8 1.5 0.3]\n",
      " [5.4 3.4 1.7 0.2]\n",
      " [5.1 3.7 1.5 0.4]\n",
      " [4.6 3.6 1.  0.2]\n",
      " [5.1 3.3 1.7 0.5]\n",
      " [4.8 3.4 1.9 0.2]\n",
      " [5.  3.  1.6 0.2]\n",
      " [5.  3.4 1.6 0.4]\n",
      " [5.2 3.5 1.5 0.2]\n",
      " [5.2 3.4 1.4 0.2]\n",
      " [4.7 3.2 1.6 0.2]\n",
      " [4.8 3.1 1.6 0.2]\n",
      " [5.4 3.4 1.5 0.4]\n",
      " [5.2 4.1 1.5 0.1]\n",
      " [5.5 4.2 1.4 0.2]\n",
      " [4.9 3.1 1.5 0.2]\n",
      " [5.  3.2 1.2 0.2]\n",
      " [5.5 3.5 1.3 0.2]\n",
      " [4.9 3.6 1.4 0.1]\n",
      " [4.4 3.  1.3 0.2]\n",
      " [5.1 3.4 1.5 0.2]\n",
      " [5.  3.5 1.3 0.3]\n",
      " [4.5 2.3 1.3 0.3]\n",
      " [4.4 3.2 1.3 0.2]\n",
      " [5.  3.5 1.6 0.6]\n",
      " [5.1 3.8 1.9 0.4]\n",
      " [4.8 3.  1.4 0.3]\n",
      " [5.1 3.8 1.6 0.2]\n",
      " [4.6 3.2 1.4 0.2]\n",
      " [5.3 3.7 1.5 0.2]\n",
      " [5.  3.3 1.4 0.2]\n",
      " [7.  3.2 4.7 1.4]\n",
      " [6.4 3.2 4.5 1.5]\n",
      " [6.9 3.1 4.9 1.5]\n",
      " [5.5 2.3 4.  1.3]\n",
      " [6.5 2.8 4.6 1.5]\n",
      " [5.7 2.8 4.5 1.3]\n",
      " [6.3 3.3 4.7 1.6]\n",
      " [4.9 2.4 3.3 1. ]\n",
      " [6.6 2.9 4.6 1.3]\n",
      " [5.2 2.7 3.9 1.4]\n",
      " [5.  2.  3.5 1. ]\n",
      " [5.9 3.  4.2 1.5]\n",
      " [6.  2.2 4.  1. ]\n",
      " [6.1 2.9 4.7 1.4]\n",
      " [5.6 2.9 3.6 1.3]\n",
      " [6.7 3.1 4.4 1.4]\n",
      " [5.6 3.  4.5 1.5]\n",
      " [5.8 2.7 4.1 1. ]\n",
      " [6.2 2.2 4.5 1.5]\n",
      " [5.6 2.5 3.9 1.1]\n",
      " [5.9 3.2 4.8 1.8]\n",
      " [6.1 2.8 4.  1.3]\n",
      " [6.3 2.5 4.9 1.5]\n",
      " [6.1 2.8 4.7 1.2]\n",
      " [6.4 2.9 4.3 1.3]\n",
      " [6.6 3.  4.4 1.4]\n",
      " [6.8 2.8 4.8 1.4]\n",
      " [6.7 3.  5.  1.7]\n",
      " [6.  2.9 4.5 1.5]\n",
      " [5.7 2.6 3.5 1. ]\n",
      " [5.5 2.4 3.8 1.1]\n",
      " [5.5 2.4 3.7 1. ]\n",
      " [5.8 2.7 3.9 1.2]\n",
      " [6.  2.7 5.1 1.6]\n",
      " [5.4 3.  4.5 1.5]\n",
      " [6.  3.4 4.5 1.6]\n",
      " [6.7 3.1 4.7 1.5]\n",
      " [6.3 2.3 4.4 1.3]\n",
      " [5.6 3.  4.1 1.3]\n",
      " [5.5 2.5 4.  1.3]\n",
      " [5.5 2.6 4.4 1.2]\n",
      " [6.1 3.  4.6 1.4]\n",
      " [5.8 2.6 4.  1.2]\n",
      " [5.  2.3 3.3 1. ]\n",
      " [5.6 2.7 4.2 1.3]\n",
      " [5.7 3.  4.2 1.2]\n",
      " [5.7 2.9 4.2 1.3]\n",
      " [6.2 2.9 4.3 1.3]\n",
      " [5.1 2.5 3.  1.1]\n",
      " [5.7 2.8 4.1 1.3]\n",
      " [6.3 3.3 6.  2.5]\n",
      " [5.8 2.7 5.1 1.9]\n",
      " [7.1 3.  5.9 2.1]\n",
      " [6.3 2.9 5.6 1.8]\n",
      " [6.5 3.  5.8 2.2]\n",
      " [7.6 3.  6.6 2.1]\n",
      " [4.9 2.5 4.5 1.7]\n",
      " [7.3 2.9 6.3 1.8]\n",
      " [6.7 2.5 5.8 1.8]\n",
      " [7.2 3.6 6.1 2.5]\n",
      " [6.5 3.2 5.1 2. ]\n",
      " [6.4 2.7 5.3 1.9]\n",
      " [6.8 3.  5.5 2.1]\n",
      " [5.7 2.5 5.  2. ]\n",
      " [5.8 2.8 5.1 2.4]\n",
      " [6.4 3.2 5.3 2.3]\n",
      " [6.5 3.  5.5 1.8]\n",
      " [7.7 3.8 6.7 2.2]\n",
      " [7.7 2.6 6.9 2.3]\n",
      " [6.  2.2 5.  1.5]\n",
      " [6.9 3.2 5.7 2.3]\n",
      " [5.6 2.8 4.9 2. ]\n",
      " [7.7 2.8 6.7 2. ]\n",
      " [6.3 2.7 4.9 1.8]\n",
      " [6.7 3.3 5.7 2.1]\n",
      " [7.2 3.2 6.  1.8]\n",
      " [6.2 2.8 4.8 1.8]\n",
      " [6.1 3.  4.9 1.8]\n",
      " [6.4 2.8 5.6 2.1]\n",
      " [7.2 3.  5.8 1.6]\n",
      " [7.4 2.8 6.1 1.9]\n",
      " [7.9 3.8 6.4 2. ]\n",
      " [6.4 2.8 5.6 2.2]\n",
      " [6.3 2.8 5.1 1.5]\n",
      " [6.1 2.6 5.6 1.4]\n",
      " [7.7 3.  6.1 2.3]\n",
      " [6.3 3.4 5.6 2.4]\n",
      " [6.4 3.1 5.5 1.8]\n",
      " [6.  3.  4.8 1.8]\n",
      " [6.9 3.1 5.4 2.1]\n",
      " [6.7 3.1 5.6 2.4]\n",
      " [6.9 3.1 5.1 2.3]\n",
      " [5.8 2.7 5.1 1.9]\n",
      " [6.8 3.2 5.9 2.3]\n",
      " [6.7 3.3 5.7 2.5]\n",
      " [6.7 3.  5.2 2.3]\n",
      " [6.3 2.5 5.  1.9]\n",
      " [6.5 3.  5.2 2. ]\n",
      " [6.2 3.4 5.4 2.3]\n",
      " [5.9 3.  5.1 1.8]]\n"
     ]
    }
   ],
   "source": [
    "def variableX():\n",
    "    '''Se asigna (X) a los datos de entrada (data)'''\n",
    "    X = cargaDataset().data\n",
    "    return(X)\n",
    "print(variableX.__doc__)\n",
    "print(variableX())"
   ]
  },
  {
   "cell_type": "code",
   "execution_count": 9,
   "id": "4eb64f8b",
   "metadata": {},
   "outputs": [
    {
     "name": "stdout",
     "output_type": "stream",
     "text": [
      "Se asigna (y) a los objetivos(target)\n",
      "[0 0 0 0 0 0 0 0 0 0 0 0 0 0 0 0 0 0 0 0 0 0 0 0 0 0 0 0 0 0 0 0 0 0 0 0 0\n",
      " 0 0 0 0 0 0 0 0 0 0 0 0 0 1 1 1 1 1 1 1 1 1 1 1 1 1 1 1 1 1 1 1 1 1 1 1 1\n",
      " 1 1 1 1 1 1 1 1 1 1 1 1 1 1 1 1 1 1 1 1 1 1 1 1 1 1 2 2 2 2 2 2 2 2 2 2 2\n",
      " 2 2 2 2 2 2 2 2 2 2 2 2 2 2 2 2 2 2 2 2 2 2 2 2 2 2 2 2 2 2 2 2 2 2 2 2 2\n",
      " 2 2]\n"
     ]
    }
   ],
   "source": [
    "def variabley():\n",
    "    '''Se asigna (y) a los objetivos(target)'''\n",
    "    y = cargaDataset().target\n",
    "    return(y)\n",
    "print(variabley.__doc__)\n",
    "print(variabley())"
   ]
  },
  {
   "cell_type": "markdown",
   "id": "c13fdd39",
   "metadata": {},
   "source": [
    "# División del conjunto de datos"
   ]
  },
  {
   "cell_type": "code",
   "execution_count": 10,
   "id": "93f44dc8",
   "metadata": {},
   "outputs": [
    {
     "name": "stdout",
     "output_type": "stream",
     "text": [
      "Se divide 70% para entrenamiento y 30% para prueba\n",
      "    X_train con 105 registros para entrenar\n",
      "    y_train con las “etiquetas” de los resultados esperados de X_train\n",
      "    X_test con 45 registros para test\n",
      "    y_test con las “etiquetas” de los resultados de X_test\n",
      "None\n"
     ]
    }
   ],
   "source": [
    "def division():\n",
    "    '''Se divide 70% para entrenamiento y 30% para prueba\n",
    "    X_train con 105 registros para entrenar\n",
    "    y_train con las “etiquetas” de los resultados esperados de X_train\n",
    "    X_test con 45 registros para test\n",
    "    y_test con las “etiquetas” de los resultados de X_test'''\n",
    "X_train, X_test, y_train, y_test = train_test_split(variableX(), variabley(), test_size=0.3, random_state=75)\n",
    "print(division.__doc__)\n",
    "print(division())"
   ]
  },
  {
   "cell_type": "code",
   "execution_count": 11,
   "id": "864763eb",
   "metadata": {},
   "outputs": [
    {
     "name": "stdout",
     "output_type": "stream",
     "text": [
      "Conteo de los registros de caracteristicas y etiquetas para verificar el conjunto de datos\n",
      "X_train:  105\n",
      "X_test:  45\n",
      "y_train:  105\n",
      "y_test:  45\n",
      "None\n"
     ]
    }
   ],
   "source": [
    "def conteo():\n",
    "    '''Conteo de los registros de caracteristicas y etiquetas para verificar el conjunto de datos'''\n",
    "    print(\"X_train: \", X_train.shape[0])\n",
    "    print(\"X_test: \", X_test.shape[0])\n",
    "    print(\"y_train: \", y_train.shape[0])\n",
    "    print(\"y_test: \", y_test.shape[0])\n",
    "print(conteo.__doc__)\n",
    "print(conteo())"
   ]
  },
  {
   "cell_type": "markdown",
   "id": "23e9eea8",
   "metadata": {},
   "source": [
    "# Instanciar un objeto SVM"
   ]
  },
  {
   "cell_type": "code",
   "execution_count": 12,
   "id": "e90e536a",
   "metadata": {},
   "outputs": [
    {
     "name": "stdout",
     "output_type": "stream",
     "text": [
      "Se instancia un objeto SVM con hiperparámetros (valores utilizados para el entrenamiento) y kernel lineal\n",
      "SVC(kernel='linear')\n"
     ]
    }
   ],
   "source": [
    "def instancias():\n",
    "    '''Se instancia un objeto SVM con hiperparámetros (valores utilizados para el entrenamiento) y kernel lineal'''\n",
    "    clf = svm.SVC(kernel='linear')\n",
    "    return(clf)\n",
    "print(instancias.__doc__)\n",
    "print(instancias())"
   ]
  },
  {
   "cell_type": "markdown",
   "id": "90c0c4dc",
   "metadata": {},
   "source": [
    "## Entrenar al modelo"
   ]
  },
  {
   "cell_type": "code",
   "execution_count": 13,
   "id": "8d3a7e2a",
   "metadata": {},
   "outputs": [
    {
     "name": "stdout",
     "output_type": "stream",
     "text": [
      "Entremaniento del modelo con los registros para entrenar y para prueba\n",
      "SVC(kernel='linear')\n"
     ]
    }
   ],
   "source": [
    "def entrenamiento():\n",
    "    '''Entremaniento del modelo con los registros para entrenar y para prueba'''\n",
    "    return(instancias().fit(X_train, y_train))\n",
    "print(entrenamiento.__doc__)\n",
    "print(entrenamiento())"
   ]
  },
  {
   "cell_type": "markdown",
   "id": "7e4c8b54",
   "metadata": {},
   "source": [
    "## Predicción"
   ]
  },
  {
   "cell_type": "code",
   "execution_count": 14,
   "id": "1d52bd76",
   "metadata": {},
   "outputs": [
    {
     "name": "stdout",
     "output_type": "stream",
     "text": [
      "Predeccion a (y) para la prueba del dataset\n",
      "[2 2 1 1 1 0 0 1 0 1 2 0 2 0 1 2 2 2 1 2 0 1 2 0 0 1 1 2 0 0 1 1 2 2 0 1 2\n",
      " 0 0 0 1 1 2 2 1]\n"
     ]
    }
   ],
   "source": [
    "def prediccion():\n",
    "    '''Predeccion a (y) para la prueba del dataset'''\n",
    "    y_pred = entrenamiento().predict(X_test)\n",
    "    return(y_pred)\n",
    "print(prediccion.__doc__)\n",
    "print(prediccion())"
   ]
  },
  {
   "cell_type": "code",
   "execution_count": 15,
   "id": "fba4bbc8",
   "metadata": {
    "scrolled": true
   },
   "outputs": [
    {
     "name": "stdout",
     "output_type": "stream",
     "text": [
      "Verificación de predicciones totales para la prueba\n",
      "(45,)\n",
      "None\n"
     ]
    }
   ],
   "source": [
    "def verificacion():\n",
    "    '''Verificación de predicciones totales para la prueba'''\n",
    "    print(prediccion().shape)\n",
    "print(verificacion.__doc__)\n",
    "print(verificacion())"
   ]
  },
  {
   "cell_type": "markdown",
   "id": "70125d5f",
   "metadata": {},
   "source": [
    "# Evaluación del modelo"
   ]
  },
  {
   "cell_type": "code",
   "execution_count": 16,
   "id": "05beb26d",
   "metadata": {},
   "outputs": [
    {
     "name": "stdout",
     "output_type": "stream",
     "text": [
      "Exactitud: con qué frecuencia es correcto el clasificador\n",
      "Exactitud:  0.9777777777777777\n",
      "None\n"
     ]
    }
   ],
   "source": [
    "def exactitud():\n",
    "    '''Exactitud: con qué frecuencia es correcto el clasificador'''\n",
    "    print(\"Exactitud: \", metrics.accuracy_score(y_test, prediccion()))\n",
    "print(exactitud.__doc__)\n",
    "print(exactitud())"
   ]
  },
  {
   "cell_type": "code",
   "execution_count": 17,
   "id": "8fa43ae2",
   "metadata": {},
   "outputs": [
    {
     "name": "stdout",
     "output_type": "stream",
     "text": [
      "Presción: porcentaje de tuplas positivas están etiquetados como tales\n",
      "Presicion:  0.9777777777777777\n",
      "None\n"
     ]
    }
   ],
   "source": [
    "def presicion():\n",
    "    '''Presción: porcentaje de tuplas positivas están etiquetados como tales'''\n",
    "    print(\"Presicion: \", metrics.precision_score(y_test, prediccion(), average='micro'))\n",
    "print(presicion.__doc__)\n",
    "print(presicion())"
   ]
  },
  {
   "cell_type": "code",
   "execution_count": 19,
   "id": "4e476711",
   "metadata": {},
   "outputs": [
    {
     "name": "stdout",
     "output_type": "stream",
     "text": [
      "Recuperacion: que porcentaje con qué frecuencia predice que sí cuando en realidad es sí,\n",
      "Sensibilidad  0.9777777777777777\n",
      "None\n"
     ]
    }
   ],
   "source": [
    "def sensibilidad():\n",
    "    '''Recuperacion: que porcentaje con qué frecuencia predice que sí cuando en realidad es sí,'''\n",
    "    print(\"Sensibilidad \", metrics.recall_score(y_test, prediccion(),average='micro'))\n",
    "print(sensibilidad.__doc__)\n",
    "print(sensibilidad())"
   ]
  },
  {
   "cell_type": "code",
   "execution_count": 49,
   "id": "ac36d52a",
   "metadata": {},
   "outputs": [
    {
     "name": "stdout",
     "output_type": "stream",
     "text": [
      "Diseño de gráfica la matriz de confusión \n",
      "Matriz de Confusión\n",
      "[[14  0  0]\n",
      " [ 0 16  1]\n",
      " [ 0  0 14]]\n"
     ]
    },
    {
     "name": "stderr",
     "output_type": "stream",
     "text": [
      "C:\\ProgramData\\Anaconda3\\lib\\site-packages\\sklearn\\utils\\deprecation.py:87: FutureWarning: Function plot_confusion_matrix is deprecated; Function `plot_confusion_matrix` is deprecated in 1.0 and will be removed in 1.2. Use one of the class methods: ConfusionMatrixDisplay.from_predictions or ConfusionMatrixDisplay.from_estimator.\n",
      "  warnings.warn(msg, category=FutureWarning)\n"
     ]
    },
    {
     "data": {
      "image/png": "[encoded data removed]",
      "text/plain": [
       "<Figure size 432x288 with 2 Axes>"
      ]
     },
     "metadata": {
      "needs_background": "light"
     },
     "output_type": "display_data"
    },
    {
     "name": "stdout",
     "output_type": "stream",
     "text": [
      "None\n"
     ]
    }
   ],
   "source": [
    "def matrizConfusion():\n",
    "    '''Diseño de gráfica la matriz de confusión '''\n",
    "    class_names = cargaDataset().target_names\n",
    "    titles_options = [(\"Matriz de Confusión\", None)]\n",
    "    for title, normalize in titles_options:\n",
    "        disp = plot_confusion_matrix(entrenamiento(), X_test, y_test,\n",
    "                                     display_labels=class_names,\n",
    "                                     cmap=plt.cm.BuPu,\n",
    "                                     normalize=normalize)\n",
    "        disp.ax_.set_title(title)\n",
    "\n",
    "        print(title)\n",
    "        print(disp.confusion_matrix)\n",
    "\n",
    "    plt.show()\n",
    "print(matrizConfusion.__doc__)\n",
    "print(matrizConfusion())"
   ]
  },
  {
   "cell_type": "code",
   "execution_count": 22,
   "id": "3257cb9d",
   "metadata": {},
   "outputs": [
    {
     "name": "stdout",
     "output_type": "stream",
     "text": [
      "              precision    recall  f1-score   support\n",
      "\n",
      "      Setosa       1.00      1.00      1.00        14\n",
      "  Versicolor       1.00      0.94      0.97        17\n",
      "   Virginica       0.93      1.00      0.97        14\n",
      "\n",
      "    accuracy                           0.98        45\n",
      "   macro avg       0.98      0.98      0.98        45\n",
      "weighted avg       0.98      0.98      0.98        45\n",
      "\n"
     ]
    }
   ],
   "source": [
    "# Reporte de clasificación para verificar las operaciones matemáticas de presición y Exhaustividad\n",
    "print(classification_report(y_test, prediccion(), target_names=['Setosa', 'Versicolor', 'Virginica']))"
   ]
  },
  {
   "cell_type": "markdown",
   "id": "9efb2054",
   "metadata": {},
   "source": [
    "# Cálculos para la Matriz de confusión 3x3 con Operaciones matemáticas"
   ]
  },
  {
   "cell_type": "markdown",
   "id": "67a9a033",
   "metadata": {},
   "source": [
    "## Encontrar TP, TN, FP y FN para cada clase individual"
   ]
  },
  {
   "cell_type": "code",
   "execution_count": 29,
   "id": "fbda76fc",
   "metadata": {},
   "outputs": [],
   "source": [
    "# TP : Número de predicciones donde se predice la clase positiva como positiva.\n",
    "# FP : Número de predicciones donde se predice incorrectamente la clase negativa como positiva.\n",
    "# FN : Número de predicciones donde se predice incorrectamente la clase positiva como negativa.\n",
    "# TN : Número de predicciones donde se predice correctamente la clase negativa como negativa.\n",
    "TP_Setosa = 14\n",
    "FP_Setosa = 0\n",
    "FN_Setosa = 0\n",
    "TN_Setosa = 31\n",
    "#------------------------------------------------------------------------------------------\n",
    "TP_Versicolor = 16\n",
    "FP_Versicolor = 0\n",
    "FN_Versicolor = 1\n",
    "TN_Versicolor = 28\n",
    "#------------------------------------------------------------------------------------------\n",
    "TP_Virginica = 14\n",
    "FP_Virginica = 1\n",
    "FN_Virginica = 0\n",
    "TN_Virginica = 30"
   ]
  },
  {
   "cell_type": "markdown",
   "id": "dd116379",
   "metadata": {},
   "source": [
    "### Cálculo precisión, sensibilidad y Puntuación F1 para la clase Setosa"
   ]
  },
  {
   "cell_type": "code",
   "execution_count": 45,
   "id": "068f37f8",
   "metadata": {},
   "outputs": [
    {
     "name": "stdout",
     "output_type": "stream",
     "text": [
      "Presición: 1.0\n",
      "Sensibilidad: 1.0\n",
      "PuntuacionF1: 1.0\n"
     ]
    }
   ],
   "source": [
    "#Presicion para la clase Setosa\n",
    "Precision_Setosa = TP_Setosa/(TP_Setosa + FP_Setosa)\n",
    "print(\"Presición:\", Precision_Setosa)\n",
    "\n",
    "# Sensibilidad para la clase Setosa\n",
    "Sensibilidad_Setosa = TP_Setosa/(TP_Setosa + FN_Setosa)\n",
    "print(\"Sensibilidad:\", Sensibilidad_Setosa)\n",
    "\n",
    "#Puntuación para la clase Setosa\n",
    "PuntuacionF1_Setosa = (2*(Precision_Setosa*Sensibilidad_Setosa))/(2*(Precision_Setosa*Sensibilidad_Setosa))\n",
    "print(\"PuntuacionF1:\", PuntuacionF1_Setosa)"
   ]
  },
  {
   "cell_type": "markdown",
   "id": "88788208",
   "metadata": {},
   "source": [
    "### Cálculo precisión, sensibilidad y Puntuación F1 para la clase Versicolor"
   ]
  },
  {
   "cell_type": "code",
   "execution_count": 46,
   "id": "88ab9909",
   "metadata": {},
   "outputs": [
    {
     "name": "stdout",
     "output_type": "stream",
     "text": [
      "Presición: 1.0\n",
      "Sensibilidad: 0.9411764705882353\n",
      "PuntuacionF1: 1.0\n"
     ]
    }
   ],
   "source": [
    "#Presicion para la clase Versicolor\n",
    "Precision_Versicolor = TP_Versicolor/(TP_Versicolor + FP_Versicolor)\n",
    "print(\"Presición:\", Precision_Versicolor)\n",
    "\n",
    "# Sensibilidad para la clase Versicolor\n",
    "Sensibilidad_Versicolor = TP_Versicolor/(TP_Versicolor + FN_Versicolor)\n",
    "print(\"Sensibilidad:\", Sensibilidad_Versicolor)\n",
    "\n",
    "#Puntuación para la clase Versicolor\n",
    "PuntuacionF1_Versicolor = (2*(Precision_Versicolor*Sensibilidad_Versicolor))/(2*(Precision_Versicolor*Sensibilidad_Versicolor))\n",
    "print(\"PuntuacionF1:\", PuntuacionF1_Versicolor)"
   ]
  },
  {
   "cell_type": "markdown",
   "id": "35d6b27c",
   "metadata": {},
   "source": [
    "### Cálculo precisión, sensibilidad y Puntuación F1 para la clase Virginica"
   ]
  },
  {
   "cell_type": "code",
   "execution_count": 47,
   "id": "c24ae8e8",
   "metadata": {},
   "outputs": [
    {
     "name": "stdout",
     "output_type": "stream",
     "text": [
      "Presición: 0.9333333333333333\n",
      "Sensibilidad: 1.0\n",
      "PuntuacionF1: 1.0\n"
     ]
    }
   ],
   "source": [
    "#Presicion para la clase Virginica\n",
    "Precision_Virginica = TP_Virginica/(TP_Virginica + FP_Virginica)\n",
    "print(\"Presición:\", Precision_Virginica)\n",
    "\n",
    "# Sensibilidad para la clase Virginica\n",
    "Sensibilidad_Virginica = TP_Virginica/(TP_Virginica + FN_Virginica)\n",
    "print(\"Sensibilidad:\", Sensibilidad_Virginica)\n",
    "\n",
    "#Puntuación para la clase Virginica\n",
    "PuntuacionF1_Virginica = (2*(Precision_Virginica*Sensibilidad_Virginica))/(2*(Precision_Virginica*Sensibilidad_Virginica))\n",
    "print(\"PuntuacionF1:\", PuntuacionF1_Virginica)"
   ]
  },
  {
   "cell_type": "code",
   "execution_count": null,
   "id": "b2d7f6be",
   "metadata": {},
   "outputs": [],
   "source": []
  }
 ],
 "metadata": {
  "kernelspec": {
   "display_name": "Python 3 (ipykernel)",
   "language": "python",
   "name": "python3"
  },
  "language_info": {
   "codemirror_mode": {
    "name": "ipython",
    "version": 3
   },
   "file_extension": ".py",
   "mimetype": "text/x-python",
   "name": "python",
   "nbconvert_exporter": "python",
   "pygments_lexer": "ipython3",
   "version": "3.9.12"
  }
 },
 "nbformat": 4,
 "nbformat_minor": 5
}
